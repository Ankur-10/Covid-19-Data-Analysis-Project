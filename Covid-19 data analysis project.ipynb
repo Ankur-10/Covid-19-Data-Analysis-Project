{
 "cells": [
  {
   "cell_type": "code",
   "execution_count": 1,
   "id": "a55e84f4",
   "metadata": {},
   "outputs": [],
   "source": [
    "import pandas as pd\n",
    "import numpy as np\n",
    "import seaborn as sns\n",
    "import matplotlib.pyplot as plt"
   ]
  },
  {
   "cell_type": "code",
   "execution_count": 2,
   "id": "76677298",
   "metadata": {},
   "outputs": [],
   "source": [
    "# importing the csv file\n",
    "data = pd.read_csv(r\"C:\\Users\\Ankur\\Downloads\\archive\\coviddd.csv\")"
   ]
  },
  {
   "cell_type": "code",
   "execution_count": 4,
   "id": "06f68e45",
   "metadata": {},
   "outputs": [
    {
     "data": {
      "text/html": [
       "<div>\n",
       "<style scoped>\n",
       "    .dataframe tbody tr th:only-of-type {\n",
       "        vertical-align: middle;\n",
       "    }\n",
       "\n",
       "    .dataframe tbody tr th {\n",
       "        vertical-align: top;\n",
       "    }\n",
       "\n",
       "    .dataframe thead th {\n",
       "        text-align: right;\n",
       "    }\n",
       "</style>\n",
       "<table border=\"1\" class=\"dataframe\">\n",
       "  <thead>\n",
       "    <tr style=\"text-align: right;\">\n",
       "      <th></th>\n",
       "      <th>State/UTs</th>\n",
       "      <th>Total Cases</th>\n",
       "      <th>Active</th>\n",
       "      <th>Discharged</th>\n",
       "      <th>Deaths</th>\n",
       "      <th>Active Ratio</th>\n",
       "      <th>Discharge Ratio</th>\n",
       "      <th>Death Ratio</th>\n",
       "      <th>Population</th>\n",
       "    </tr>\n",
       "  </thead>\n",
       "  <tbody>\n",
       "    <tr>\n",
       "      <th>0</th>\n",
       "      <td>Andaman and Nicobar</td>\n",
       "      <td>10747</td>\n",
       "      <td>0</td>\n",
       "      <td>10618</td>\n",
       "      <td>129</td>\n",
       "      <td>0.0</td>\n",
       "      <td>98.80</td>\n",
       "      <td>1.20</td>\n",
       "      <td>100896618</td>\n",
       "    </tr>\n",
       "    <tr>\n",
       "      <th>1</th>\n",
       "      <td>Andhra Pradesh</td>\n",
       "      <td>2339078</td>\n",
       "      <td>7</td>\n",
       "      <td>2324338</td>\n",
       "      <td>14733</td>\n",
       "      <td>0.0</td>\n",
       "      <td>99.37</td>\n",
       "      <td>0.63</td>\n",
       "      <td>128500364</td>\n",
       "    </tr>\n",
       "    <tr>\n",
       "      <th>2</th>\n",
       "      <td>Arunachal Pradesh</td>\n",
       "      <td>66891</td>\n",
       "      <td>0</td>\n",
       "      <td>66595</td>\n",
       "      <td>296</td>\n",
       "      <td>0.0</td>\n",
       "      <td>99.56</td>\n",
       "      <td>0.44</td>\n",
       "      <td>658019</td>\n",
       "    </tr>\n",
       "    <tr>\n",
       "      <th>3</th>\n",
       "      <td>Assam</td>\n",
       "      <td>746100</td>\n",
       "      <td>0</td>\n",
       "      <td>738065</td>\n",
       "      <td>8035</td>\n",
       "      <td>0.0</td>\n",
       "      <td>98.92</td>\n",
       "      <td>1.08</td>\n",
       "      <td>290492</td>\n",
       "    </tr>\n",
       "    <tr>\n",
       "      <th>4</th>\n",
       "      <td>Bihar</td>\n",
       "      <td>851404</td>\n",
       "      <td>1</td>\n",
       "      <td>839100</td>\n",
       "      <td>12303</td>\n",
       "      <td>0.0</td>\n",
       "      <td>98.55</td>\n",
       "      <td>1.45</td>\n",
       "      <td>40100376</td>\n",
       "    </tr>\n",
       "  </tbody>\n",
       "</table>\n",
       "</div>"
      ],
      "text/plain": [
       "             State/UTs  Total Cases  Active  Discharged  Deaths  Active Ratio  \\\n",
       "0  Andaman and Nicobar        10747       0       10618     129           0.0   \n",
       "1       Andhra Pradesh      2339078       7     2324338   14733           0.0   \n",
       "2    Arunachal Pradesh        66891       0       66595     296           0.0   \n",
       "3                Assam       746100       0      738065    8035           0.0   \n",
       "4                Bihar       851404       1      839100   12303           0.0   \n",
       "\n",
       "   Discharge Ratio  Death Ratio  Population  \n",
       "0            98.80         1.20   100896618  \n",
       "1            99.37         0.63   128500364  \n",
       "2            99.56         0.44      658019  \n",
       "3            98.92         1.08      290492  \n",
       "4            98.55         1.45    40100376  "
      ]
     },
     "execution_count": 4,
     "metadata": {},
     "output_type": "execute_result"
    }
   ],
   "source": [
    "# for showing the first five rows of the file\n",
    "data.head()"
   ]
  },
  {
   "cell_type": "code",
   "execution_count": 5,
   "id": "9706febe",
   "metadata": {},
   "outputs": [
    {
     "data": {
      "text/html": [
       "<div>\n",
       "<style scoped>\n",
       "    .dataframe tbody tr th:only-of-type {\n",
       "        vertical-align: middle;\n",
       "    }\n",
       "\n",
       "    .dataframe tbody tr th {\n",
       "        vertical-align: top;\n",
       "    }\n",
       "\n",
       "    .dataframe thead th {\n",
       "        text-align: right;\n",
       "    }\n",
       "</style>\n",
       "<table border=\"1\" class=\"dataframe\">\n",
       "  <thead>\n",
       "    <tr style=\"text-align: right;\">\n",
       "      <th></th>\n",
       "      <th>State/UTs</th>\n",
       "      <th>Total Cases</th>\n",
       "      <th>Active</th>\n",
       "      <th>Discharged</th>\n",
       "      <th>Deaths</th>\n",
       "      <th>Active Ratio</th>\n",
       "      <th>Discharge Ratio</th>\n",
       "      <th>Death Ratio</th>\n",
       "      <th>Population</th>\n",
       "    </tr>\n",
       "  </thead>\n",
       "  <tbody>\n",
       "    <tr>\n",
       "      <th>31</th>\n",
       "      <td>Telengana</td>\n",
       "      <td>841453</td>\n",
       "      <td>27</td>\n",
       "      <td>837315</td>\n",
       "      <td>4111</td>\n",
       "      <td>0.0</td>\n",
       "      <td>99.51</td>\n",
       "      <td>0.49</td>\n",
       "      <td>69599762</td>\n",
       "    </tr>\n",
       "    <tr>\n",
       "      <th>32</th>\n",
       "      <td>Tripura</td>\n",
       "      <td>108034</td>\n",
       "      <td>0</td>\n",
       "      <td>107094</td>\n",
       "      <td>940</td>\n",
       "      <td>0.0</td>\n",
       "      <td>99.13</td>\n",
       "      <td>0.87</td>\n",
       "      <td>1646050</td>\n",
       "    </tr>\n",
       "    <tr>\n",
       "      <th>33</th>\n",
       "      <td>Uttar Pradesh</td>\n",
       "      <td>2128154</td>\n",
       "      <td>18</td>\n",
       "      <td>2104502</td>\n",
       "      <td>23634</td>\n",
       "      <td>0.0</td>\n",
       "      <td>98.89</td>\n",
       "      <td>1.11</td>\n",
       "      <td>1158040</td>\n",
       "    </tr>\n",
       "    <tr>\n",
       "      <th>34</th>\n",
       "      <td>Uttarakhand</td>\n",
       "      <td>449429</td>\n",
       "      <td>11</td>\n",
       "      <td>441665</td>\n",
       "      <td>7753</td>\n",
       "      <td>0.0</td>\n",
       "      <td>98.27</td>\n",
       "      <td>1.73</td>\n",
       "      <td>85002417</td>\n",
       "    </tr>\n",
       "    <tr>\n",
       "      <th>35</th>\n",
       "      <td>West Bengal</td>\n",
       "      <td>2118696</td>\n",
       "      <td>50</td>\n",
       "      <td>2097114</td>\n",
       "      <td>21532</td>\n",
       "      <td>0.0</td>\n",
       "      <td>98.98</td>\n",
       "      <td>1.02</td>\n",
       "      <td>32199722</td>\n",
       "    </tr>\n",
       "  </tbody>\n",
       "</table>\n",
       "</div>"
      ],
      "text/plain": [
       "        State/UTs  Total Cases  Active  Discharged  Deaths  Active Ratio  \\\n",
       "31      Telengana       841453      27      837315    4111           0.0   \n",
       "32        Tripura       108034       0      107094     940           0.0   \n",
       "33  Uttar Pradesh      2128154      18     2104502   23634           0.0   \n",
       "34    Uttarakhand       449429      11      441665    7753           0.0   \n",
       "35    West Bengal      2118696      50     2097114   21532           0.0   \n",
       "\n",
       "    Discharge Ratio  Death Ratio  Population  \n",
       "31            99.51         0.49    69599762  \n",
       "32            99.13         0.87     1646050  \n",
       "33            98.89         1.11     1158040  \n",
       "34            98.27         1.73    85002417  \n",
       "35            98.98         1.02    32199722  "
      ]
     },
     "execution_count": 5,
     "metadata": {},
     "output_type": "execute_result"
    }
   ],
   "source": [
    "#showing the last 5 rows of the dataset\n",
    "data.tail()"
   ]
  },
  {
   "cell_type": "code",
   "execution_count": 6,
   "id": "2c76c8e5",
   "metadata": {},
   "outputs": [
    {
     "data": {
      "text/plain": [
       "Index(['State/UTs', 'Total Cases', 'Active', 'Discharged', 'Deaths',\n",
       "       'Active Ratio', 'Discharge Ratio', 'Death Ratio', 'Population'],\n",
       "      dtype='object')"
      ]
     },
     "execution_count": 6,
     "metadata": {},
     "output_type": "execute_result"
    }
   ],
   "source": [
    "#showing the columns name\n",
    "data.columns"
   ]
  },
  {
   "cell_type": "code",
   "execution_count": 7,
   "id": "e2608bf5",
   "metadata": {},
   "outputs": [
    {
     "data": {
      "text/html": [
       "<div>\n",
       "<style scoped>\n",
       "    .dataframe tbody tr th:only-of-type {\n",
       "        vertical-align: middle;\n",
       "    }\n",
       "\n",
       "    .dataframe tbody tr th {\n",
       "        vertical-align: top;\n",
       "    }\n",
       "\n",
       "    .dataframe thead th {\n",
       "        text-align: right;\n",
       "    }\n",
       "</style>\n",
       "<table border=\"1\" class=\"dataframe\">\n",
       "  <thead>\n",
       "    <tr style=\"text-align: right;\">\n",
       "      <th></th>\n",
       "      <th>Total Cases</th>\n",
       "      <th>Active</th>\n",
       "      <th>Discharged</th>\n",
       "      <th>Deaths</th>\n",
       "      <th>Active Ratio</th>\n",
       "      <th>Discharge Ratio</th>\n",
       "      <th>Death Ratio</th>\n",
       "      <th>Population</th>\n",
       "    </tr>\n",
       "  </thead>\n",
       "  <tbody>\n",
       "    <tr>\n",
       "      <th>count</th>\n",
       "      <td>3.600000e+01</td>\n",
       "      <td>36.000000</td>\n",
       "      <td>3.600000e+01</td>\n",
       "      <td>36.000000</td>\n",
       "      <td>36.000000</td>\n",
       "      <td>36.000000</td>\n",
       "      <td>36.000000</td>\n",
       "      <td>3.600000e+01</td>\n",
       "    </tr>\n",
       "    <tr>\n",
       "      <th>mean</th>\n",
       "      <td>1.241145e+06</td>\n",
       "      <td>56.527778</td>\n",
       "      <td>1.226346e+06</td>\n",
       "      <td>14742.388889</td>\n",
       "      <td>0.002222</td>\n",
       "      <td>98.893333</td>\n",
       "      <td>1.103889</td>\n",
       "      <td>3.971861e+07</td>\n",
       "    </tr>\n",
       "    <tr>\n",
       "      <th>std</th>\n",
       "      <td>1.834031e+06</td>\n",
       "      <td>215.847762</td>\n",
       "      <td>1.808252e+06</td>\n",
       "      <td>27170.089767</td>\n",
       "      <td>0.007601</td>\n",
       "      <td>0.498764</td>\n",
       "      <td>0.498479</td>\n",
       "      <td>5.050913e+07</td>\n",
       "    </tr>\n",
       "    <tr>\n",
       "      <th>min</th>\n",
       "      <td>1.074700e+04</td>\n",
       "      <td>0.000000</td>\n",
       "      <td>1.061800e+04</td>\n",
       "      <td>4.000000</td>\n",
       "      <td>0.000000</td>\n",
       "      <td>97.540000</td>\n",
       "      <td>0.030000</td>\n",
       "      <td>6.600100e+04</td>\n",
       "    </tr>\n",
       "    <tr>\n",
       "      <th>25%</th>\n",
       "      <td>1.058650e+05</td>\n",
       "      <td>0.000000</td>\n",
       "      <td>1.048640e+05</td>\n",
       "      <td>1120.750000</td>\n",
       "      <td>0.000000</td>\n",
       "      <td>98.672500</td>\n",
       "      <td>0.842500</td>\n",
       "      <td>1.695473e+06</td>\n",
       "    </tr>\n",
       "    <tr>\n",
       "      <th>50%</th>\n",
       "      <td>6.127720e+05</td>\n",
       "      <td>7.500000</td>\n",
       "      <td>6.063570e+05</td>\n",
       "      <td>6542.000000</td>\n",
       "      <td>0.000000</td>\n",
       "      <td>98.925000</td>\n",
       "      <td>1.070000</td>\n",
       "      <td>2.410088e+07</td>\n",
       "    </tr>\n",
       "    <tr>\n",
       "      <th>75%</th>\n",
       "      <td>1.320822e+06</td>\n",
       "      <td>27.500000</td>\n",
       "      <td>1.311256e+06</td>\n",
       "      <td>14292.750000</td>\n",
       "      <td>0.000000</td>\n",
       "      <td>99.150000</td>\n",
       "      <td>1.327500</td>\n",
       "      <td>6.979986e+07</td>\n",
       "    </tr>\n",
       "    <tr>\n",
       "      <th>max</th>\n",
       "      <td>8.136945e+06</td>\n",
       "      <td>1300.000000</td>\n",
       "      <td>7.988392e+06</td>\n",
       "      <td>148419.000000</td>\n",
       "      <td>0.040000</td>\n",
       "      <td>99.970000</td>\n",
       "      <td>2.460000</td>\n",
       "      <td>2.315026e+08</td>\n",
       "    </tr>\n",
       "  </tbody>\n",
       "</table>\n",
       "</div>"
      ],
      "text/plain": [
       "        Total Cases       Active    Discharged         Deaths  Active Ratio  \\\n",
       "count  3.600000e+01    36.000000  3.600000e+01      36.000000     36.000000   \n",
       "mean   1.241145e+06    56.527778  1.226346e+06   14742.388889      0.002222   \n",
       "std    1.834031e+06   215.847762  1.808252e+06   27170.089767      0.007601   \n",
       "min    1.074700e+04     0.000000  1.061800e+04       4.000000      0.000000   \n",
       "25%    1.058650e+05     0.000000  1.048640e+05    1120.750000      0.000000   \n",
       "50%    6.127720e+05     7.500000  6.063570e+05    6542.000000      0.000000   \n",
       "75%    1.320822e+06    27.500000  1.311256e+06   14292.750000      0.000000   \n",
       "max    8.136945e+06  1300.000000  7.988392e+06  148419.000000      0.040000   \n",
       "\n",
       "       Discharge Ratio  Death Ratio    Population  \n",
       "count        36.000000    36.000000  3.600000e+01  \n",
       "mean         98.893333     1.103889  3.971861e+07  \n",
       "std           0.498764     0.498479  5.050913e+07  \n",
       "min          97.540000     0.030000  6.600100e+04  \n",
       "25%          98.672500     0.842500  1.695473e+06  \n",
       "50%          98.925000     1.070000  2.410088e+07  \n",
       "75%          99.150000     1.327500  6.979986e+07  \n",
       "max          99.970000     2.460000  2.315026e+08  "
      ]
     },
     "execution_count": 7,
     "metadata": {},
     "output_type": "execute_result"
    }
   ],
   "source": [
    "data.describe()"
   ]
  },
  {
   "cell_type": "code",
   "execution_count": 8,
   "id": "9237226e",
   "metadata": {
    "scrolled": true
   },
   "outputs": [
    {
     "data": {
      "text/plain": [
       "State/UTs          0\n",
       "Total Cases        0\n",
       "Active             0\n",
       "Discharged         0\n",
       "Deaths             0\n",
       "Active Ratio       0\n",
       "Discharge Ratio    0\n",
       "Death Ratio        0\n",
       "Population         0\n",
       "dtype: int64"
      ]
     },
     "execution_count": 8,
     "metadata": {},
     "output_type": "execute_result"
    }
   ],
   "source": [
    "data.isnull().sum()"
   ]
  },
  {
   "cell_type": "markdown",
   "id": "e59e1ec2",
   "metadata": {},
   "source": [
    "# relating the variables with scatter plot"
   ]
  },
  {
   "cell_type": "code",
   "execution_count": 9,
   "id": "69ca39d6",
   "metadata": {},
   "outputs": [
    {
     "data": {
      "text/plain": [
       "<seaborn.axisgrid.FacetGrid at 0x28ddfb7d670>"
      ]
     },
     "execution_count": 9,
     "metadata": {},
     "output_type": "execute_result"
    },
    {
     "data": {
      "image/png": "[encoded data removed]",
      "text/plain": [
       "<Figure size 500x500 with 1 Axes>"
      ]
     },
     "metadata": {},
     "output_type": "display_data"
    }
   ],
   "source": [
    "sns.relplot(x=\"State/UTs\",y=\"Deaths\",data=data)"
   ]
  },
  {
   "cell_type": "code",
   "execution_count": 10,
   "id": "a470dfef",
   "metadata": {},
   "outputs": [
    {
     "data": {
      "text/plain": [
       "<seaborn.axisgrid.PairGrid at 0x28ddfdd8a90>"
      ]
     },
     "execution_count": 10,
     "metadata": {},
     "output_type": "execute_result"
    }
   ],
   "source": [
    "sns.pairplot(data)"
   ]
  },
  {
   "cell_type": "code",
   "execution_count": 31,
   "id": "20d2b3cc",
   "metadata": {},
   "outputs": [
    {
     "data": {
      "text/plain": [
       "<seaborn.axisgrid.FacetGrid at 0x20f3d864d60>"
      ]
     },
     "execution_count": 31,
     "metadata": {},
     "output_type": "execute_result"
    }
   ],
   "source": [
    "sns.relplot(x=\"Deaths\",y=\"Active\",data=data)"
   ]
  },
  {
   "cell_type": "code",
   "execution_count": null,
   "id": "dab7ce5d",
   "metadata": {},
   "outputs": [],
   "source": []
  }
 ],
 "metadata": {
  "kernelspec": {
   "display_name": "Python 3 (ipykernel)",
   "language": "python",
   "name": "python3"
  },
  "language_info": {
   "codemirror_mode": {
    "name": "ipython",
    "version": 3
   },
   "file_extension": ".py",
   "mimetype": "text/x-python",
   "name": "python",
   "nbconvert_exporter": "python",
   "pygments_lexer": "ipython3",
   "version": "3.9.13"
  }
 },
 "nbformat": 4,
 "nbformat_minor": 5
}
